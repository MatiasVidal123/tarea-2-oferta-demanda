{
  "nbformat": 4,
  "nbformat_minor": 0,
  "metadata": {
    "kernelspec": {
      "display_name": "Python 3",
      "language": "python",
      "name": "python3"
    },
    "language_info": {
      "codemirror_mode": {
        "name": "ipython",
        "version": 3
      },
      "file_extension": ".py",
      "mimetype": "text/x-python",
      "name": "python",
      "nbconvert_exporter": "python",
      "pygments_lexer": "ipython3",
      "version": "3.6.7"
    },
    "colab": {
      "name": "Copia de OfertaDemanda.ipynb",
      "provenance": [],
      "include_colab_link": true
    }
  },
  "cells": [
    {
      "cell_type": "markdown",
      "metadata": {
        "id": "view-in-github",
        "colab_type": "text"
      },
      "source": [
        "<a href=\"https://colab.research.google.com/github/MatiasVidal123/tarea-2-oferta-demanda/blob/main/Copia_de_OfertaDemanda.ipynb\" target=\"_parent\"><img src=\"https://colab.research.google.com/assets/colab-badge.svg\" alt=\"Open In Colab\"/></a>"
      ]
    },
    {
      "cell_type": "markdown",
      "metadata": {
        "id": "r3gKCXJ2oxtz"
      },
      "source": [
        "# <font color=\"880000\"> Un mercado competitivo </font>\n",
        "\n",
        "Última edición en inglés de [la fuente original](https://github.com/braddelong/LS2019/blob/master/2019-08-10_market.ipynb): 2019-08-17 \n",
        "\n",
        "Traducción: 2021-03-29\n",
        "\n",
        "Una clase Python para un mercado simple con una mercancía donde los agentes son tomadores de precio.\n",
        "\n",
        "El mercado se constituye de los siguientes objetos:\n",
        "\n",
        "Una función de demanda lineal:\n",
        "\n",
        "> (1) $ P_d = DAP_{max} - d*Q_d   $\n",
        "\n",
        "Una función de oferta lineal:\n",
        "\n",
        "> (2) $ P_s = CO_{min} + s*Q_s  $\n",
        "\n",
        "$P_d$ es el precio pagado por el consumidor. $P_s$ es el precio percibido por el productor. $Q_d$ es la cantidad que el consumidor quiere comprar para su determinado precio. $Q_s$ es la cantidad que el productor desea proveer a su determinado precio. $DAP_{max}$ es la máxima disposición a pagar de cualquier consumider-el intercepto con el eje $y$ de la función de demanda. $CO_{min}$ es el mínimo costo oportunidad de cualquier productor-el intercepto con el eje $y$ de la función de oferta. $s$ es la pendiente de la función de oferta. $d$ es la pendiente de la función de demanda.\n",
        "\n",
        "La clase provee métodos para computar el precio y cantidad de equilibrio competitivo, funciones de oferta y demanda, excedentes del consumidor y productor y excedentes totales.\n",
        "\n",
        "La implementación es la siguiente:"
      ]
    },
    {
      "cell_type": "code",
      "metadata": {
        "id": "QfeBiFjhoxt4"
      },
      "source": [
        "class mercado:\n",
        "\n",
        "    def __init__(self, DAPmax, COmin, d, s):\n",
        "        \"\"\"\n",
        "        Configura los parámetros del mercado. DAP𝑚𝑎𝑥 es la máxima disposición a \n",
        "        pagar de cualquier consumider-el intercepto con el eje y de la función \n",
        "        de demanda. COmin es el mínimo costo oportunidad de cualquier productor-el \n",
        "        intercepto con el eje y de la función de oferta. s es la pendiente de la f\n",
        "        unción de oferta. d es la pendiente de la función de demanda...\n",
        "        \"\"\"\n",
        "        \n",
        "        self.DAPmax, self.COmin, self.d, self.s = DAPmax, COmin, d, s\n",
        "        \n",
        "        if DAPmax < COmin:\n",
        "            raise ValueError('Demanda insuficiente.')\n",
        "\n",
        "    def cantidad_equilibrio(self):\n",
        "        \"Cálculo cantidad de equilibrio\"\n",
        "        return  (self.DAPmax - self.COmin)/(self.d + self.s)\n",
        "\n",
        "    def precio_equilibrio(self):\n",
        "        \"Cálculo cantidad de equilibrio\"\n",
        "        return  self.DAPmax - self.d * self.cantidad_equilibrio()\n",
        "\n",
        "    def excedente_consumidor(self):\n",
        "        \"Cálculo excedente consumidor\"\n",
        "        return (self.DAPmax - self.precio_equilibrio())*self.cantidad_equilibrio()/2\n",
        "\n",
        "    def excedente_productor(self):\n",
        "        \"Cálculo excedente productor\"\n",
        "        return (self.precio_equilibrio() - self.COmin) * self.cantidad_equilibrio() /2\n",
        "\n",
        "    def excedente_total(self):\n",
        "        \"Cálculo excedente total\"\n",
        "        return self.excedente_productor() + self.excedente_consumidor()\n",
        "    \n",
        "    def demanda(self,x):\n",
        "        \"Función demanda\"\n",
        "        return self.DAPmax - self.d*x\n",
        "        \n",
        "    def oferta(self,x):\n",
        "        \"Función oferta\"\n",
        "        return self.COmin + self.s*x"
      ],
      "execution_count": null,
      "outputs": []
    },
    {
      "cell_type": "code",
      "metadata": {
        "colab": {
          "base_uri": "https://localhost:8080/",
          "height": 299
        },
        "id": "ZysSWea_oxt6",
        "outputId": "87988005-8608-4763-e55d-e78e8bd93f5a"
      },
      "source": [
        "import numpy as np\n",
        "import matplotlib.pyplot as plt\n",
        "%matplotlib inline\n",
        "\n",
        "# Parámetros iniciales DAPmax, COmin, d, s\n",
        "params_ini = 5781,5197,1.5,0.455\n",
        "m = mercado(*params_ini)\n",
        "\n",
        "q_max = m.cantidad_equilibrio() * 2\n",
        "q_grid = np.linspace(0.0, q_max, 100)\n",
        "pd = m.demanda(q_grid)\n",
        "ps = m.oferta(q_grid)\n",
        "\n",
        "fig, ax = plt.subplots()\n",
        "ax.plot(q_grid, pd, lw=2, alpha=0.6, label='demanda')\n",
        "ax.plot(q_grid, ps, lw=2, alpha=0.6, label='Oferta')\n",
        "ax.set_xlabel('Cantidad', fontsize=14)\n",
        "ax.set_xlim(0, q_max)\n",
        "ax.set_ylabel('Precio', fontsize=14)\n",
        "ax.legend(loc='lower right', frameon=False, fontsize=14)\n",
        "ax.set(title='Oferta, Demanda y Equilibrio de mercados')\n",
        "plt.show()"
      ],
      "execution_count": null,
      "outputs": [
        {
          "output_type": "display_data",
          "data": {
            "text/plain": [
              "<Figure size 432x288 with 1 Axes>"
            ],
            "image/png": "[encoded data removed]"
          },
          "metadata": {
            "needs_background": "light"
          }
        }
      ]
    },
    {
      "cell_type": "code",
      "metadata": {
        "colab": {
          "base_uri": "https://localhost:8080/"
        },
        "id": "eudVuLgYoxt7",
        "outputId": "2494a5ee-2585-4ff0-9b69-fceca4197ca6"
      },
      "source": [
        "import numpy as np\n",
        "import matplotlib.pyplot as plt\n",
        "%matplotlib inline\n",
        "\n",
        "# Baseline DAPmax, COmin, d, s\n",
        "params_ini = 5781,5197,1.5,0.455\n",
        "m = mercado(*params_ini)\n",
        "\n",
        "print(\"Excedente productor =\",m.excedente_productor())\n",
        "print(\"Excedente consumidor =\",m.excedente_consumidor())\n",
        "print(\"Excedente total =\",m.excedente_total())\n",
        "print(\"Cantidad de equilibrio =\",m.cantidad_equilibrio())\n",
        "print(\"Precio de equilibrio =\",m.precio_equilibrio())"
      ],
      "execution_count": null,
      "outputs": [
        {
          "output_type": "stream",
          "name": "stdout",
          "text": [
            "Excedente productor = 20300.819591708623\n",
            "Excedente consumidor = 66925.77887376452\n",
            "Excedente total = 87226.59846547314\n",
            "Cantidad de equilibrio = 298.72122762148337\n",
            "Precio de equilibrio = 5332.918158567775\n"
          ]
        }
      ]
    }
  ]
}